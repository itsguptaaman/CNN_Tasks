{
  "nbformat": 4,
  "nbformat_minor": 0,
  "metadata": {
    "colab": {
      "provenance": []
    },
    "kernelspec": {
      "name": "python3",
      "display_name": "Python 3"
    },
    "language_info": {
      "name": "python"
    }
  },
  "cells": [
    {
      "cell_type": "markdown",
      "source": [
        "### Task :- **Write a Sequential VGG Network by yourself..!**\n"
      ],
      "metadata": {
        "id": "4OdEUNIrTIU2"
      }
    },
    {
      "cell_type": "markdown",
      "source": [
        "- Creating a sequential network for VGG-16"
      ],
      "metadata": {
        "id": "Liz99oCJTfUo"
      }
    },
    {
      "cell_type": "code",
      "execution_count": 1,
      "metadata": {
        "id": "g73_niA_RaT4"
      },
      "outputs": [],
      "source": [
        "# Importing the librarues\n",
        "import tensorflow as tf\n",
        "from tensorflow.keras import layers, models"
      ]
    },
    {
      "cell_type": "code",
      "source": [
        "model = models.Sequential()\n",
        "\n",
        "# First block\n",
        "model.add(layers.Conv2D(64, (3, 3), padding=\"same\" , activation=\"relu\", input_shape=(224, 224, 3))) # 224 x 224 x 64\n",
        "model.add(layers.Conv2D(64, (3, 3), padding=\"same\", activation=\"relu\")) # 224 x 224 x 64\n",
        "model.add(layers.MaxPooling2D((2, 2))) # 112 x 112 x 64\n",
        "\n",
        "# Second block\n",
        "model.add(layers.Conv2D(128, (3, 3), padding=\"same\", activation=\"relu\")) # 112 x 112 x 128\n",
        "model.add(layers.Conv2D(128, (3, 3), padding=\"same\", activation=\"relu\")) # 112 x 112 x 128\n",
        "model.add(layers.MaxPooling2D((2, 2))) # 56 x 56 x 128\n",
        "\n",
        "# Third block\n",
        "model.add(layers.Conv2D(256, (3, 3), padding=\"same\", activation=\"relu\")) # 56 x 56 x 128\n",
        "model.add(layers.Conv2D(256, (3, 3), padding=\"same\", activation=\"relu\")) # 56 x 56 x 128\n",
        "model.add(layers.Conv2D(256, (3, 3), padding=\"same\", activation=\"relu\")) # 56 x 56 x 128\n",
        "model.add(layers.MaxPooling2D((2, 2))) # 28 x 28 x 256\n",
        "\n",
        "# Fourth block\n",
        "model.add(layers.Conv2D(512, (3, 3), padding=\"same\", activation=\"relu\")) # 28 x 28 x 256\n",
        "model.add(layers.Conv2D(512, (3, 3), padding=\"same\", activation=\"relu\")) # 28 x 28 x 256 \n",
        "model.add(layers.Conv2D(512, (3, 3), padding=\"same\", activation=\"relu\")) # 28 x 28 x 256\n",
        "model.add(layers.MaxPooling2D((2, 2))) # 14 x 14 x 512\n",
        "\n",
        "# Fifth block\n",
        "model.add(layers.Conv2D(512, (3, 3), padding=\"same\", activation=\"relu\")) # 14 x 14 x 512\n",
        "model.add(layers.Conv2D(512, (3, 3), padding=\"same\", activation=\"relu\")) # 14 x 14 x 512\n",
        "model.add(layers.Conv2D(512, (3, 3), padding=\"same\", activation=\"relu\")) # 14 x 14 x 512\n",
        "model.add(layers.MaxPooling2D((2, 2))) # 7 x 7 x 512\n",
        "\n",
        "# Sixth block\n",
        "model.add(layers.Flatten())\n",
        "# model.add(layers.Dense(205088, activation=\"relu\"))\n",
        "# model.add(layers.Dense(4096, activation=\"relu\"))\n",
        "model.add(layers.Dense(4096, activation=\"relu\"))\n",
        "model.add(layers.Dense(1000, activation=\"softmax\"))"
      ],
      "metadata": {
        "id": "EP3UewcKSoSI"
      },
      "execution_count": 2,
      "outputs": []
    },
    {
      "cell_type": "code",
      "source": [
        "# Model Summary\n",
        "model.summary()"
      ],
      "metadata": {
        "colab": {
          "base_uri": "https://localhost:8080/"
        },
        "id": "IW6In7o2ZgC8",
        "outputId": "f8893254-4423-449f-ceab-17acddd25b59"
      },
      "execution_count": 3,
      "outputs": [
        {
          "output_type": "stream",
          "name": "stdout",
          "text": [
            "Model: \"sequential\"\n",
            "_________________________________________________________________\n",
            " Layer (type)                Output Shape              Param #   \n",
            "=================================================================\n",
            " conv2d (Conv2D)             (None, 224, 224, 64)      1792      \n",
            "                                                                 \n",
            " conv2d_1 (Conv2D)           (None, 224, 224, 64)      36928     \n",
            "                                                                 \n",
            " max_pooling2d (MaxPooling2D  (None, 112, 112, 64)     0         \n",
            " )                                                               \n",
            "                                                                 \n",
            " conv2d_2 (Conv2D)           (None, 112, 112, 128)     73856     \n",
            "                                                                 \n",
            " conv2d_3 (Conv2D)           (None, 112, 112, 128)     147584    \n",
            "                                                                 \n",
            " max_pooling2d_1 (MaxPooling  (None, 56, 56, 128)      0         \n",
            " 2D)                                                             \n",
            "                                                                 \n",
            " conv2d_4 (Conv2D)           (None, 56, 56, 256)       295168    \n",
            "                                                                 \n",
            " conv2d_5 (Conv2D)           (None, 56, 56, 256)       590080    \n",
            "                                                                 \n",
            " conv2d_6 (Conv2D)           (None, 56, 56, 256)       590080    \n",
            "                                                                 \n",
            " max_pooling2d_2 (MaxPooling  (None, 28, 28, 256)      0         \n",
            " 2D)                                                             \n",
            "                                                                 \n",
            " conv2d_7 (Conv2D)           (None, 28, 28, 512)       1180160   \n",
            "                                                                 \n",
            " conv2d_8 (Conv2D)           (None, 28, 28, 512)       2359808   \n",
            "                                                                 \n",
            " conv2d_9 (Conv2D)           (None, 28, 28, 512)       2359808   \n",
            "                                                                 \n",
            " max_pooling2d_3 (MaxPooling  (None, 14, 14, 512)      0         \n",
            " 2D)                                                             \n",
            "                                                                 \n",
            " conv2d_10 (Conv2D)          (None, 14, 14, 512)       2359808   \n",
            "                                                                 \n",
            " conv2d_11 (Conv2D)          (None, 14, 14, 512)       2359808   \n",
            "                                                                 \n",
            " conv2d_12 (Conv2D)          (None, 14, 14, 512)       2359808   \n",
            "                                                                 \n",
            " max_pooling2d_4 (MaxPooling  (None, 7, 7, 512)        0         \n",
            " 2D)                                                             \n",
            "                                                                 \n",
            " flatten (Flatten)           (None, 25088)             0         \n",
            "                                                                 \n",
            " dense (Dense)               (None, 4096)              102764544 \n",
            "                                                                 \n",
            " dense_1 (Dense)             (None, 1000)              4097000   \n",
            "                                                                 \n",
            "=================================================================\n",
            "Total params: 121,576,232\n",
            "Trainable params: 121,576,232\n",
            "Non-trainable params: 0\n",
            "_________________________________________________________________\n"
          ]
        }
      ]
    },
    {
      "cell_type": "code",
      "source": [],
      "metadata": {
        "id": "1hVKoK5qZpTO"
      },
      "execution_count": null,
      "outputs": []
    }
  ]
}